{
 "cells": [
  {
   "cell_type": "markdown",
   "metadata": {},
   "source": [
    "## Questions\n",
    "\n",
    "1) Create 3 variables for name (first and last), age and hometown. Assign to these variables your own name, age and hometown. Now, recreate the following sentence using variable assignment and the ‘print’ command in Python: “I am <Your name here>. I am <age> years old. I’m from <hometown>”\n",
    "    \n",
    "a) Now, use a string method to make your name lower case. Print the all lower case\n",
    "version of your name.\n",
    "\n",
    "b) Now use a string method to make your full name a proper noun. Print this version of\n",
    "your name.\n",
    "\n",
    "2) Using the ‘replace’ method, replace all “I am” with “he is” or “she is” and all “I’m” with\n",
    "“he’s” or “she’s”.\n",
    "\n",
    "3) Return a boolean response indicating whether the length of your original sentence (in #1) is greater than your age plus 40."
   ]
  },
  {
   "cell_type": "markdown",
   "metadata": {},
   "source": [
    "1) Create 3 variables for name (first and last), age and hometown. Assign to these variables your own name, age and hometown. Now, recreate the following sentence using variable assignment and the ‘print’ command in Python: “I am <Your name here>. I am <age> years old. I’m from <hometown>”"
   ]
  },
  {
   "cell_type": "code",
   "execution_count": 1,
   "metadata": {},
   "outputs": [],
   "source": [
    "name = 'Matt Doudnikoff'\n",
    "age = int(\"20\")\n",
    "hometown = 'Raleigh, NC'"
   ]
  },
  {
   "cell_type": "code",
   "execution_count": 2,
   "metadata": {},
   "outputs": [
    {
     "name": "stdout",
     "output_type": "stream",
     "text": [
      "I am Matt Doudnikoff. I am 20 years old. I'm from Raleigh, NC.\n"
     ]
    }
   ],
   "source": [
    "statement = \"I am \" + name + \". I am \" + str(age) + \" years old. I'm from \" + hometown + \".\"\n",
    "print(\"I am \" + name + \". I am \" + str(age) + \" years old. I'm from \" + hometown + \".\")"
   ]
  },
  {
   "cell_type": "markdown",
   "metadata": {},
   "source": [
    "a) Now, use a string method to make your name lower case. Print the all lower case\n",
    "version of your name."
   ]
  },
  {
   "cell_type": "code",
   "execution_count": 3,
   "metadata": {},
   "outputs": [
    {
     "name": "stdout",
     "output_type": "stream",
     "text": [
      "matt doudnikoff\n"
     ]
    }
   ],
   "source": [
    "print(str.lower(name))"
   ]
  },
  {
   "cell_type": "markdown",
   "metadata": {},
   "source": [
    "b) Now use a string method to make your full name a proper noun. Print this version of\n",
    "your name."
   ]
  },
  {
   "cell_type": "code",
   "execution_count": 4,
   "metadata": {},
   "outputs": [
    {
     "name": "stdout",
     "output_type": "stream",
     "text": [
      "Matt Doudnikoff\n"
     ]
    }
   ],
   "source": [
    "print(name.title())"
   ]
  },
  {
   "cell_type": "markdown",
   "metadata": {},
   "source": [
    "2) Using the ‘replace’ method, replace all “I am” with “he is” or “she is” and all “I’m” with\n",
    "“he’s” or “she’s”."
   ]
  },
  {
   "cell_type": "code",
   "execution_count": 5,
   "metadata": {},
   "outputs": [
    {
     "name": "stdout",
     "output_type": "stream",
     "text": [
      "He is Matt Doudnikoff. He is 20 years old. He's from Raleigh, NC.\n"
     ]
    }
   ],
   "source": [
    "statement1 = statement.replace(\"I am\", \"He is\")\n",
    "statement2 = statement1.replace(\"I'm\", \"He's\")\n",
    "print(statement2)"
   ]
  },
  {
   "cell_type": "markdown",
   "metadata": {},
   "source": [
    "3) Return a boolean response indicating whether the length of your original sentence (in #1) is greater than your age plus 40."
   ]
  },
  {
   "cell_type": "code",
   "execution_count": 6,
   "metadata": {},
   "outputs": [
    {
     "data": {
      "text/plain": [
       "62"
      ]
     },
     "execution_count": 6,
     "metadata": {},
     "output_type": "execute_result"
    }
   ],
   "source": [
    "statement_len = len(statement)\n",
    "int(statement_len)"
   ]
  },
  {
   "cell_type": "code",
   "execution_count": 7,
   "metadata": {},
   "outputs": [
    {
     "data": {
      "text/plain": [
       "True"
      ]
     },
     "execution_count": 7,
     "metadata": {},
     "output_type": "execute_result"
    }
   ],
   "source": [
    "(statement_len) > (age + (40))"
   ]
  }
 ],
 "metadata": {
  "kernelspec": {
   "display_name": "Python 3",
   "language": "python",
   "name": "python3"
  },
  "language_info": {
   "codemirror_mode": {
    "name": "ipython",
    "version": 3
   },
   "file_extension": ".py",
   "mimetype": "text/x-python",
   "name": "python",
   "nbconvert_exporter": "python",
   "pygments_lexer": "ipython3",
   "version": "3.6.5"
  }
 },
 "nbformat": 4,
 "nbformat_minor": 2
}
