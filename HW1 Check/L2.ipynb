{
 "cells": [
  {
   "cell_type": "markdown",
   "metadata": {},
   "source": [
    "# Questions\n",
    "\n",
    "1. Define data science. How do you think you will use in your career (either as a student or in the Air Force)?\n",
    "\n",
    "2. What are the three focus areas in this course?\n",
    "\n",
    "    \n",
    "4. Do at least 3 basic calculations in three separate boxes. \n",
    "\n",
    "5. In another box, use python code ot print your name followed by a \"thumbs up\" sign.\n",
    "\n",
    "6. I read once that violent crime is significantly associated with ice cream sales. That is, as ice cream sales increase, so does violent crime. Do high ice cream sales cause an increase in violent crime? Explain this relationship.\n",
    "    There might be a strong association but establishing the causality in this case would be difficult. There could be a confounding variable that is unknown to the observer. To establish causality we need to have two groups that are similar but with one small difference (ice cream sales and violent crime).\n",
    "\n",
    "7. What is the differnece between an observational study and an experiment?\n",
    "    The differnce is an observational study is where you observe the participants in the study but you cannot force them to do anything. This is not really randomization. In an experiment you apply the differnce between the groups and this is done by randomization to get the best study. "
   ]
  },
  {
   "cell_type": "markdown",
   "metadata": {},
   "source": [
    "1. Define data science. How do you think you will use in your career (either as a student or in the Air Force)?\n",
    "\n",
    "    Data science is about drawing useful conclusions from lots of data. I will use this in my career as a student because this is the core of all operations research jobs, the ability to manipulate large amounts of data and make useful information to make (hopefully) the right decisions. "
   ]
  },
  {
   "cell_type": "markdown",
   "metadata": {},
   "source": [
    "2. What are the three focus areas in this course?\n",
    "    1. Exploration - Identifying patterns in information\n",
    "    2. Prediction - Using info to make informed guesses about things we wish we knew. \n",
    "    3. Inference - Is about quantifying our degree of certainty? Will the patterns observed appear in new and other observations. How accurate are the predictions. "
   ]
  },
  {
   "cell_type": "markdown",
   "metadata": {},
   "source": [
    "4. Do at least 3 basic calculations in three separate boxes. "
   ]
  },
  {
   "cell_type": "code",
   "execution_count": 3,
   "metadata": {},
   "outputs": [
    {
     "data": {
      "text/plain": [
       "4"
      ]
     },
     "execution_count": 3,
     "metadata": {},
     "output_type": "execute_result"
    }
   ],
   "source": [
    "2+2"
   ]
  },
  {
   "cell_type": "code",
   "execution_count": 4,
   "metadata": {},
   "outputs": [
    {
     "data": {
      "text/plain": [
       "100"
      ]
     },
     "execution_count": 4,
     "metadata": {},
     "output_type": "execute_result"
    }
   ],
   "source": [
    "10*10"
   ]
  },
  {
   "cell_type": "code",
   "execution_count": 5,
   "metadata": {},
   "outputs": [
    {
     "data": {
      "text/plain": [
       "3.3333333333333335"
      ]
     },
     "execution_count": 5,
     "metadata": {},
     "output_type": "execute_result"
    }
   ],
   "source": [
    "20/6"
   ]
  },
  {
   "cell_type": "markdown",
   "metadata": {},
   "source": [
    "5. In another box, use python code ot print your name followed by a \"thumbs up\" sign."
   ]
  },
  {
   "cell_type": "code",
   "execution_count": 13,
   "metadata": {},
   "outputs": [
    {
     "name": "stdout",
     "output_type": "stream",
     "text": [
      "Matt Doudnikoff 👍\n"
     ]
    }
   ],
   "source": [
    "print(\"Matt Doudnikoff \\N{thumbs up sign}\")"
   ]
  },
  {
   "cell_type": "markdown",
   "metadata": {},
   "source": [
    "6. I read once that violent crime is significantly associated with ice cream sales. That is, as ice cream sales increase, so does violent crime. Do high ice cream sales cause an increase in violent crime? Explain this relationship.\n",
    "    \n",
    "    There might be a strong association but establishing the causality in this case would be difficult. There could be a confounding variable that is unknown to the observer. To establish causality we need to have two groups that are similar but with one small difference (ice cream sales and violent crime)."
   ]
  },
  {
   "cell_type": "markdown",
   "metadata": {},
   "source": [
    "7. What is the differnece between an observational study and an experiment?\n",
    "    \n",
    "    The differnce is an observational study is where you observe the participants in the study but you cannot force them to do anything. This is not really randomization. In an experiment you apply the differnce between the groups and this is done by randomization to get the best study."
   ]
  }
 ],
 "metadata": {
  "kernelspec": {
   "display_name": "Python 3",
   "language": "python",
   "name": "python3"
  },
  "language_info": {
   "codemirror_mode": {
    "name": "ipython",
    "version": 3
   },
   "file_extension": ".py",
   "mimetype": "text/x-python",
   "name": "python",
   "nbconvert_exporter": "python",
   "pygments_lexer": "ipython3",
   "version": "3.6.5"
  }
 },
 "nbformat": 4,
 "nbformat_minor": 2
}
