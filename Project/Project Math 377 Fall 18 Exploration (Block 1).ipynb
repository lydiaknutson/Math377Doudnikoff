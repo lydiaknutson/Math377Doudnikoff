{
 "cells": [
  {
   "cell_type": "markdown",
   "metadata": {},
   "source": [
    "# Math 377 Fall 2018\n",
    "\n",
    "#### Name: Matt Doudnikoff\n",
    "#### Section: M2"
   ]
  },
  {
   "cell_type": "markdown",
   "metadata": {},
   "source": [
    "**Documentation Statement:** I compared answers with C2C Garrett O'Shea, Liz Frakes, and Pierce Pluemer. "
   ]
  },
  {
   "cell_type": "markdown",
   "metadata": {},
   "source": [
    "# Project: Predicting Spam\n",
    "### Data Collection, Summarization, Inference and Prediction\n",
    "\n",
    "<img style=\"float: right;\" src=\"img\\spam3.jpg\">\n",
    "This project is designed to cover many of the main ideas of the entire course. Ultimately we want to predict if an email is spam. In the course of doing this, we will collect data, clean it up, work with string data, make a simple inference, and then build a naive bayes model from the ground up. \n",
    "\n",
    "\n",
    "By the end of project, you should know how to:\n",
    "\n",
    "1. Find and import data.\n",
    "2. Use regular expressions to edit string data.\n",
    "3. Determine if a word helps to identify an email as spam or not.\n",
    "4. Create a function to predict the type of email using the ideas of Bayesian Classification.\n",
    "5. Assess your model and propose improvements.\n",
    "\n",
    "**Advice.** Develop your answers incrementally. To perform a complicated table manipulation, break it up into steps, perform each step on a different line, give a new name to each result, and check that each intermediate result is what you expect by displaying it. You can add additional names or functions to the provided cells in order to organize your work. \n",
    "\n",
    "**Authorized Resources:** Anyone and anything."
   ]
  },
  {
   "cell_type": "markdown",
   "metadata": {},
   "source": [
    "### 0. Notebook Setup  \n",
    "\n",
    "Create a folder on your local drive and place this notebook in it. Create a subfolder called `data` copy the file `subject_lines.csv` into it from our Google drive. Create another subfolder called `img` and copy `spam3.jpg` into it, this file can also be found on the Google drive."
   ]
  },
  {
   "cell_type": "markdown",
   "metadata": {},
   "source": [
    "### 1. Background Information \n",
    "\n",
    "There are a couple of reference papers that may be of interest to explore. The first is \"Better Bayesian Filtering\" by Paul Graham,http://bit.ly/1ycPbiy. The second is \"A Plan for Spam\" also by Paul Graham, http://bit.ly/1ycPcmA"
   ]
  },
  {
   "cell_type": "markdown",
   "metadata": {},
   "source": [
    "### 2. Load Packages  \n",
    "\n",
    "To get started, load `datascience`, `numpy`, `mathplotlib.pyplot`, `math`, `re`, and `pandas`."
   ]
  },
  {
   "cell_type": "code",
   "execution_count": 1,
   "metadata": {},
   "outputs": [],
   "source": [
    "# Execute this line as written\n",
    "import datascience as ds #note the labs use from datascience import * but this is not a good practice\n",
    "import numpy as np\n",
    "import pandas as pd\n",
    "import re\n",
    "import math\n",
    "%matplotlib inline\n",
    "import matplotlib.pyplot as plots\n",
    "plots.style.use('fivethirtyeight')"
   ]
  },
  {
   "cell_type": "markdown",
   "metadata": {},
   "source": [
    "### 3. Get Data\n",
    "\n",
    "We are going to use data from the [Apache SpamAssasian](https://spamassassin.apache.org/) website. In particular we want data from their public corpus; see the readme document at https://spamassassin.apache.org/old/publiccorpus/.\n",
    "\n",
    "We have provided you with a csv file that contains two columns. The first is the subject line and the second is whether the email is spam."
   ]
  },
  {
   "cell_type": "markdown",
   "metadata": {},
   "source": [
    "Read in the data. It can be found on the Google drive with the name `subject_lines.csv`. Don't forget that you have imported the `datascience` package under the alias `ds`. "
   ]
  },
  {
   "cell_type": "code",
   "execution_count": 2,
   "metadata": {},
   "outputs": [
    {
     "data": {
      "text/html": [
       "<table border=\"1\" class=\"dataframe\">\n",
       "    <thead>\n",
       "        <tr>\n",
       "            <th>Subject Line</th> <th>Spam</th>\n",
       "        </tr>\n",
       "    </thead>\n",
       "    <tbody>\n",
       "        <tr>\n",
       "            <td>Re: New Sequences Window                       </td> <td>False</td>\n",
       "        </tr>\n",
       "        <tr>\n",
       "            <td>[zzzzteana] RE: Alexander                      </td> <td>False</td>\n",
       "        </tr>\n",
       "        <tr>\n",
       "            <td>[zzzzteana] Moscow bomber                      </td> <td>False</td>\n",
       "        </tr>\n",
       "        <tr>\n",
       "            <td>[IRR] Klez: The Virus That  Won't Die          </td> <td>False</td>\n",
       "        </tr>\n",
       "        <tr>\n",
       "            <td>Re: Insert signature                           </td> <td>False</td>\n",
       "        </tr>\n",
       "        <tr>\n",
       "            <td>Re: [zzzzteana] Nothing like mama used to make </td> <td>False</td>\n",
       "        </tr>\n",
       "        <tr>\n",
       "            <td>Re: [zzzzteana] Nothing like mama used to make </td> <td>False</td>\n",
       "        </tr>\n",
       "        <tr>\n",
       "            <td>[zzzzteana] Playboy wants to go out with a bang</td> <td>False</td>\n",
       "        </tr>\n",
       "        <tr>\n",
       "            <td>Re: [zzzzteana] Nothing like mama used to make </td> <td>False</td>\n",
       "        </tr>\n",
       "        <tr>\n",
       "            <td>[zzzzteana] Meaningful sentences               </td> <td>False</td>\n",
       "        </tr>\n",
       "    </tbody>\n",
       "</table>\n",
       "<p>... (3290 rows omitted)</p>"
      ],
      "text/plain": [
       "Subject Line                                    | Spam\n",
       "Re: New Sequences Window                        | False\n",
       "[zzzzteana] RE: Alexander                       | False\n",
       "[zzzzteana] Moscow bomber                       | False\n",
       "[IRR] Klez: The Virus That  Won't Die           | False\n",
       "Re: Insert signature                            | False\n",
       "Re: [zzzzteana] Nothing like mama used to make  | False\n",
       "Re: [zzzzteana] Nothing like mama used to make  | False\n",
       "[zzzzteana] Playboy wants to go out with a bang | False\n",
       "Re: [zzzzteana] Nothing like mama used to make  | False\n",
       "[zzzzteana] Meaningful sentences                | False\n",
       "... (3290 rows omitted)"
      ]
     },
     "execution_count": 2,
     "metadata": {},
     "output_type": "execute_result"
    }
   ],
   "source": [
    "# Complete the code to read in the data\n",
    "Spam_data_table = ds.Table.read_table('data\\subject_lines.csv')\n",
    "Spam_data_table"
   ]
  },
  {
   "cell_type": "markdown",
   "metadata": {},
   "source": [
    "Let's get a count of the emails. Use the group command to get a count of spam and ham emails."
   ]
  },
  {
   "cell_type": "code",
   "execution_count": 3,
   "metadata": {},
   "outputs": [
    {
     "data": {
      "text/html": [
       "<table border=\"1\" class=\"dataframe\">\n",
       "    <thead>\n",
       "        <tr>\n",
       "            <th>Spam</th> <th>count</th>\n",
       "        </tr>\n",
       "    </thead>\n",
       "    <tbody>\n",
       "        <tr>\n",
       "            <td>False</td> <td>2800 </td>\n",
       "        </tr>\n",
       "        <tr>\n",
       "            <td>True </td> <td>500  </td>\n",
       "        </tr>\n",
       "    </tbody>\n",
       "</table>"
      ],
      "text/plain": [
       "Spam  | count\n",
       "False | 2800\n",
       "True  | 500"
      ]
     },
     "execution_count": 3,
     "metadata": {},
     "output_type": "execute_result"
    }
   ],
   "source": [
    "# Complete the code\n",
    "Spam_data_table.group('Spam')"
   ]
  },
  {
   "cell_type": "markdown",
   "metadata": {},
   "source": [
    "### 4. Feature Engineering  \n",
    "\n",
    "We are dealing with string data as our predictor. We first need to clean it up. The choices we make here will potentially have a big impact on the quality of the model. Ideally we would go back and test the sensitivity of our results to these choices.\n",
    "\n",
    "First we will make all the text lower case. This will ensure that words such as Free and free are viewed as equivalent. This may not be a good idea for spam detection as a word in all capital letters might be more indicative of spam.  \n",
    "\n",
    "We will be dealing with frequencies in this project but we could also try other ideas such as vector encoding and $n$-grams."
   ]
  },
  {
   "cell_type": "markdown",
   "metadata": {},
   "source": [
    "#### Clean Data\n",
    "\n",
    "We will first get the subject lines in a standard format with lower cases, no punctuation, and the removal of stopwords."
   ]
  },
  {
   "cell_type": "code",
   "execution_count": 4,
   "metadata": {},
   "outputs": [
    {
     "data": {
      "text/plain": [
       "'free'"
      ]
     },
     "execution_count": 4,
     "metadata": {},
     "output_type": "execute_result"
    }
   ],
   "source": [
    "# Example of the function we need. Execute this line\n",
    "'FREE'.lower()"
   ]
  },
  {
   "cell_type": "markdown",
   "metadata": {},
   "source": [
    "Next, we need to tokenize our string. This means to split the string into a list of words. This requires the use of regular expressions, https://docs.python.org/2/library/re.html. \n",
    "\n",
    "We will also need to remove stop words. Stop words are common words such as `and` or `we`, that add little predictive ability. We will load the natural langauge tool kit package, `nltk`, to get a list of stop words. If you are having trouble loading the `nltk` package we also provide the stop words as a csv file."
   ]
  },
  {
   "cell_type": "markdown",
   "metadata": {},
   "source": [
    "#### Using nltk package, the preferred method"
   ]
  },
  {
   "cell_type": "code",
   "execution_count": 5,
   "metadata": {},
   "outputs": [
    {
     "name": "stdout",
     "output_type": "stream",
     "text": [
      "[nltk_data] Downloading package stopwords to\n",
      "[nltk_data]     C:\\Users\\C20Letai.Doudnikoff\\AppData\\Roaming\\nltk_data\n",
      "[nltk_data]     ...\n",
      "[nltk_data]   Package stopwords is already up-to-date!\n",
      "['i', 'me', 'my', 'myself', 'we', 'our', 'ours', 'ourselves']\n"
     ]
    }
   ],
   "source": [
    "# Execute the following commands\n",
    "import nltk\n",
    "\n",
    "nltk.download('stopwords')\n",
    "\n",
    "# Getting the English stop words from nltk\n",
    "stop_words = nltk.corpus.stopwords.words('english')\n",
    "\n",
    "# Printing out the first eight stop words\n",
    "print(stop_words[:8])\n",
    "\n",
    "#We will convert our stopwords to a set as set lookup is much faster\n",
    "\n",
    "stop_words = set(stop_words)"
   ]
  },
  {
   "cell_type": "markdown",
   "metadata": {},
   "source": [
    "#### Using a csv file, the backup method"
   ]
  },
  {
   "cell_type": "code",
   "execution_count": 6,
   "metadata": {},
   "outputs": [],
   "source": [
    "stop_words = set(pd.read_csv('stop_words.csv')[\"stopwords\"].tolist())"
   ]
  },
  {
   "cell_type": "markdown",
   "metadata": {},
   "source": [
    "Strip off unwanted text from subject line"
   ]
  },
  {
   "cell_type": "code",
   "execution_count": 7,
   "metadata": {},
   "outputs": [
    {
     "name": "stdout",
     "output_type": "stream",
     "text": [
      "Subject Line                          | Spam\n",
      "Re: New Sequences Window              | False\n",
      "[zzzzteana] RE: Alexander             | False\n",
      "[zzzzteana] Moscow bomber             | False\n",
      "[IRR] Klez: The Virus That  Won't Die | False\n",
      "Re: Insert signature                  | False\n",
      "\n",
      "\n",
      "['re', 'new', 'sequences', 'window']\n",
      "['zzzzteana', 're', 'alexander']\n",
      "['zzzzteana', 'moscow', 'bomber']\n",
      "['irr', 'klez', 'the', 'virus', 'that', \"won't\", 'die']\n",
      "['re', 'insert', 'signature']\n"
     ]
    }
   ],
   "source": [
    "# Execute this line as is\n",
    "# Using data science table to demenostrate how to make lower case and keep only words and numbers\n",
    "print(Spam_data_table.take(np.arange(5)))\n",
    "print(\"\\n\")\n",
    "for subject in Spam_data_table.take(np.arange(5)).column(0):\n",
    "    print(re.findall(\"[a-z0-9']+\",subject.lower()))"
   ]
  },
  {
   "cell_type": "markdown",
   "metadata": {},
   "source": [
    "Let's remove the stop words and split the string into words. We will run some test code on the first 5 lines for illustration."
   ]
  },
  {
   "cell_type": "code",
   "execution_count": 8,
   "metadata": {},
   "outputs": [
    {
     "name": "stdout",
     "output_type": "stream",
     "text": [
      "Original subject line:  Re: New Sequences Window\n",
      "Split line:  ['re', 'new', 'sequences', 'window']\n",
      "Clean line:  ['new', 'sequences', 'window']\n",
      "Original subject line:  [zzzzteana] RE: Alexander\n",
      "Split line:  ['zzzzteana', 're', 'alexander']\n",
      "Clean line:  ['zzzzteana', 'alexander']\n",
      "Original subject line:  [zzzzteana] Moscow bomber\n",
      "Split line:  ['zzzzteana', 'moscow', 'bomber']\n",
      "Clean line:  ['zzzzteana', 'moscow', 'bomber']\n",
      "Original subject line:  [IRR] Klez: The Virus That  Won't Die\n",
      "Split line:  ['irr', 'klez', 'the', 'virus', 'that', \"won't\", 'die']\n",
      "Clean line:  ['irr', 'klez', 'virus', 'die']\n",
      "Original subject line:  Re: Insert signature\n",
      "Split line:  ['re', 'insert', 'signature']\n",
      "Clean line:  ['insert', 'signature']\n"
     ]
    }
   ],
   "source": [
    "# Testing code, run this line of code\n",
    "for subject in Spam_data_table.take(np.arange(5)).column(0):\n",
    "    final_words = []\n",
    "    print(\"Original subject line: \",subject)\n",
    "    print(\"Split line: \",re.findall(\"[a-z0-9']+\",subject.lower()))\n",
    "    words = re.findall(\"[a-z0-9']+\",subject.lower())\n",
    "    [final_words.append(word) for word in words if word not in stop_words]\n",
    "    print(\"Clean line: \",final_words)"
   ]
  },
  {
   "cell_type": "markdown",
   "metadata": {},
   "source": [
    "#### Subject Line Frequency  \n",
    "\n",
    "Before going further with inference or prediction, let's summarize the data. We want to count the total number of times a word occurrs in a subject line separately in both the spam and ham data sets. We need to count the word once per subject line."
   ]
  },
  {
   "cell_type": "markdown",
   "metadata": {},
   "source": [
    "Write a function to tokenize each subject line. This means reducing to lower case, removing stop words, and then splits into individual words. Use the code in the previous line as an example."
   ]
  },
  {
   "cell_type": "code",
   "execution_count": 9,
   "metadata": {},
   "outputs": [],
   "source": [
    "# Complete this function\n",
    "def token(subject,sw=stop_words):\n",
    "    words = re.findall(\"[a-z0-9']+\",subject.lower())\n",
    "    return set([word for word in words if word not in stop_words])"
   ]
  },
  {
   "cell_type": "markdown",
   "metadata": {},
   "source": [
    "First let's run some code on a subset, the first 3 lines, of the data. We need to get the subject line column, tokenize it, and then flatten into a list instead of a list of lists."
   ]
  },
  {
   "cell_type": "code",
   "execution_count": 10,
   "metadata": {},
   "outputs": [
    {
     "name": "stdout",
     "output_type": "stream",
     "text": [
      "List after using token:  [{'pay', 'life', 'insurance'}, {'lbs', '30', '10', 'lose', '12', 'days', 'ilug', '206', 'guaranteed'}, {'lbs', '30', '10', 'lose', '11', '12', 'days', '150', 'guaranteed'}] \n",
      "\n",
      "The flattened list:  ['pay', 'life', 'insurance', 'lbs', '30', '10', 'lose', '12', 'days', 'ilug', '206', 'guaranteed', 'lbs', '30', '10', 'lose', '11', '12', 'days', '150', 'guaranteed']\n"
     ]
    }
   ],
   "source": [
    "# Run this code\n",
    "# Get the first 5 subject lines for spam\n",
    "spam_subjects = Spam_data_table.where('Spam',True).take(np.arange(5)).column(0)\n",
    "#Tokenize and then append\n",
    "spam_words=[]\n",
    "for subject in spam_subjects[:3]:\n",
    "    spam_words.append(token(subject,stop_words))\n",
    "print(\"List after using token: \",spam_words,\"\\n\")\n",
    "#Create one long list of words\n",
    "spam_words = [item for sublist in spam_words for item in sublist]\n",
    "print(\"The flattened list: \",spam_words)"
   ]
  },
  {
   "cell_type": "markdown",
   "metadata": {},
   "source": [
    "Now that you have created code to generate a list of spam words taken from the first 3 subject lines, copy and paste the above snippet and modify it below to go through ALL spam. Note that you should no longer print the lists. "
   ]
  },
  {
   "cell_type": "code",
   "execution_count": 11,
   "metadata": {},
   "outputs": [
    {
     "name": "stdout",
     "output_type": "stream",
     "text": [
      "There are 2408 tokenized words in the spam subject lines.\n"
     ]
    }
   ],
   "source": [
    "#Get the subject lines for spam\n",
    "spam_subjects = Spam_data_table.where('Spam',True).column(0)\n",
    "#Tokenize and then append\n",
    "spam_words=[]\n",
    "for subject in spam_subjects:\n",
    "    spam_words.append(token(subject,stop_words))\n",
    "#Create one long list of words\n",
    "spam_words = [item for sublist in spam_words for item in sublist]\n",
    "print(\"There are\",len(spam_words),\"tokenized words in the spam subject lines.\")"
   ]
  },
  {
   "cell_type": "markdown",
   "metadata": {},
   "source": [
    "We can tokenize multiple subjects with the apply function."
   ]
  },
  {
   "cell_type": "code",
   "execution_count": 12,
   "metadata": {},
   "outputs": [
    {
     "data": {
      "text/html": [
       "<table border=\"1\" class=\"dataframe\">\n",
       "    <thead>\n",
       "        <tr>\n",
       "            <th>Subject Line</th> <th>Spam</th>\n",
       "        </tr>\n",
       "    </thead>\n",
       "    <tbody>\n",
       "        <tr>\n",
       "            <td>{'window', 'sequences', 'new'}   </td> <td>False</td>\n",
       "        </tr>\n",
       "        <tr>\n",
       "            <td>{'alexander', 'zzzzteana'}       </td> <td>False</td>\n",
       "        </tr>\n",
       "        <tr>\n",
       "            <td>{'moscow', 'bomber', 'zzzzteana'}</td> <td>False</td>\n",
       "        </tr>\n",
       "        <tr>\n",
       "            <td>{'klez', 'virus', 'irr', 'die'}  </td> <td>False</td>\n",
       "        </tr>\n",
       "        <tr>\n",
       "            <td>{'insert', 'signature'}          </td> <td>False</td>\n",
       "        </tr>\n",
       "    </tbody>\n",
       "</table>"
      ],
      "text/plain": [
       "Subject Line                      | Spam\n",
       "{'window', 'sequences', 'new'}    | False\n",
       "{'alexander', 'zzzzteana'}        | False\n",
       "{'moscow', 'bomber', 'zzzzteana'} | False\n",
       "{'klez', 'virus', 'irr', 'die'}   | False\n",
       "{'insert', 'signature'}           | False"
      ]
     },
     "execution_count": 12,
     "metadata": {},
     "output_type": "execute_result"
    }
   ],
   "source": [
    "# Run code\n",
    "# Using apply function in datascience\n",
    "Spam_data_table.take(np.arange(5)).with_columns(\"Subject\",Spam_data_table.take(np.arange(5)).apply(token,\"Subject Line\")).\\\n",
    "drop(0).select(\"Subject\",\"Spam\").relabel(\"Subject\",\"Subject Line\")"
   ]
  },
  {
   "cell_type": "markdown",
   "metadata": {},
   "source": [
    "Using the snippet above as an example, tokenize all subjects from spam e-mails only."
   ]
  },
  {
   "cell_type": "code",
   "execution_count": 13,
   "metadata": {},
   "outputs": [
    {
     "data": {
      "text/html": [
       "<table border=\"1\" class=\"dataframe\">\n",
       "    <thead>\n",
       "        <tr>\n",
       "            <th>Subject Line</th> <th>Spam</th>\n",
       "        </tr>\n",
       "    </thead>\n",
       "    <tbody>\n",
       "        <tr>\n",
       "            <td>{'pay', 'life', 'insurance'}                                </td> <td>True</td>\n",
       "        </tr>\n",
       "        <tr>\n",
       "            <td>{'lbs', '30', '10', 'lose', '12', 'days', 'ilug', '206', ...</td> <td>True</td>\n",
       "        </tr>\n",
       "        <tr>\n",
       "            <td>{'lbs', '30', '10', 'lose', '11', '12', 'days', '150', ' ...</td> <td>True</td>\n",
       "        </tr>\n",
       "        <tr>\n",
       "            <td>{'com', 'membership', 'zzzz', 'fw', 'user', 'sites', 'pv ...</td> <td>True</td>\n",
       "        </tr>\n",
       "        <tr>\n",
       "            <td>{'social', 'lbs', '30', '10', 'lose', '148', '12', 'days ...</td> <td>True</td>\n",
       "        </tr>\n",
       "        <tr>\n",
       "            <td>{'information', 'account', 'bank'}                          </td> <td>True</td>\n",
       "        </tr>\n",
       "        <tr>\n",
       "            <td>{'hiring', 'company', 'reps', 'fortune', '500', 'home'}     </td> <td>True</td>\n",
       "        </tr>\n",
       "        <tr>\n",
       "            <td>{'protected', 'family'}                                     </td> <td>True</td>\n",
       "        </tr>\n",
       "        <tr>\n",
       "            <td>{'bank', 'information', 'account', 'concerning', 'import ...</td> <td>True</td>\n",
       "        </tr>\n",
       "        <tr>\n",
       "            <td>{'base', 'customer', 'multiply'}                            </td> <td>True</td>\n",
       "        </tr>\n",
       "    </tbody>\n",
       "</table>\n",
       "<p>... (490 rows omitted)</p>"
      ],
      "text/plain": [
       "Subject Line                                                 | Spam\n",
       "{'pay', 'life', 'insurance'}                                 | True\n",
       "{'lbs', '30', '10', 'lose', '12', 'days', 'ilug', '206', ... | True\n",
       "{'lbs', '30', '10', 'lose', '11', '12', 'days', '150', ' ... | True\n",
       "{'com', 'membership', 'zzzz', 'fw', 'user', 'sites', 'pv ... | True\n",
       "{'social', 'lbs', '30', '10', 'lose', '148', '12', 'days ... | True\n",
       "{'information', 'account', 'bank'}                           | True\n",
       "{'hiring', 'company', 'reps', 'fortune', '500', 'home'}      | True\n",
       "{'protected', 'family'}                                      | True\n",
       "{'bank', 'information', 'account', 'concerning', 'import ... | True\n",
       "{'base', 'customer', 'multiply'}                             | True\n",
       "... (490 rows omitted)"
      ]
     },
     "execution_count": 13,
     "metadata": {},
     "output_type": "execute_result"
    }
   ],
   "source": [
    "# Now for the entire table\n",
    "Spam_data_table_spamonly = Spam_data_table.where('Spam',True)\n",
    "Spam_data_table_token = Spam_data_table_spamonly.with_columns(\"Subject\", Spam_data_table_spamonly.apply(token, \"Subject Line\")).\\\n",
    "drop(0).select(\"Subject\", \"Spam\").relabel(\"Subject\",\"Subject Line\")\n",
    "Spam_data_table_token"
   ]
  },
  {
   "cell_type": "markdown",
   "metadata": {},
   "source": [
    "Now that we've tokenized all of the spam e-mails, get the frequency of each of the words that appears in spam."
   ]
  },
  {
   "cell_type": "code",
   "execution_count": 14,
   "metadata": {},
   "outputs": [
    {
     "data": {
      "text/html": [
       "<table border=\"1\" class=\"dataframe\">\n",
       "    <thead>\n",
       "        <tr>\n",
       "            <th>Words</th> <th>Spam Count</th>\n",
       "        </tr>\n",
       "    </thead>\n",
       "    <tbody>\n",
       "        <tr>\n",
       "            <td>0    </td> <td>1         </td>\n",
       "        </tr>\n",
       "        <tr>\n",
       "            <td>00   </td> <td>1         </td>\n",
       "        </tr>\n",
       "        <tr>\n",
       "            <td>000  </td> <td>9         </td>\n",
       "        </tr>\n",
       "        <tr>\n",
       "            <td>000's</td> <td>1         </td>\n",
       "        </tr>\n",
       "        <tr>\n",
       "            <td>02   </td> <td>1         </td>\n",
       "        </tr>\n",
       "    </tbody>\n",
       "</table>\n",
       "<p>... (1130 rows omitted)</p>"
      ],
      "text/plain": [
       "<IPython.core.display.HTML object>"
      ]
     },
     "metadata": {},
     "output_type": "display_data"
    }
   ],
   "source": [
    "# Get counts and frequency\n",
    "# Flatten first\n",
    "spam_words = [item for sublist in Spam_data_table_token.column(0) for item in sublist]\n",
    "# Put into a table\n",
    "spam_table = ds.Table().with_column('Words', spam_words)\n",
    "spam_word_counts = spam_table.group(0).relabeled(1, 'Spam Count')\n",
    "spam_word_counts.show(5)"
   ]
  },
  {
   "cell_type": "code",
   "execution_count": 15,
   "metadata": {},
   "outputs": [
    {
     "name": "stdout",
     "output_type": "stream",
     "text": [
      "There are 1135 unique words in the tokenized spam subject lines.\n"
     ]
    }
   ],
   "source": [
    "print(\"There are\",spam_word_counts.num_rows,\"unique words in the tokenized spam subject lines.\")"
   ]
  },
  {
   "cell_type": "markdown",
   "metadata": {},
   "source": [
    "Next we want to create a column that has the subject line frequency of each word. This is the percentage of subject lines in the spam emails that contain the word of interest. We also sort the table from most frequent to least frequent."
   ]
  },
  {
   "cell_type": "code",
   "execution_count": 16,
   "metadata": {},
   "outputs": [
    {
     "data": {
      "text/html": [
       "<table border=\"1\" class=\"dataframe\">\n",
       "    <thead>\n",
       "        <tr>\n",
       "            <th>Words</th> <th>Spam Count</th> <th>Spam Subject Line Frequency</th>\n",
       "        </tr>\n",
       "    </thead>\n",
       "    <tbody>\n",
       "        <tr>\n",
       "            <td>0               </td> <td>1         </td> <td>0.0020                     </td>\n",
       "        </tr>\n",
       "        <tr>\n",
       "            <td>00              </td> <td>1         </td> <td>0.0020                     </td>\n",
       "        </tr>\n",
       "        <tr>\n",
       "            <td>000             </td> <td>9         </td> <td>0.0180                     </td>\n",
       "        </tr>\n",
       "        <tr>\n",
       "            <td>000's           </td> <td>1         </td> <td>0.0020                     </td>\n",
       "        </tr>\n",
       "        <tr>\n",
       "            <td>02              </td> <td>1         </td> <td>0.0020                     </td>\n",
       "        </tr>\n",
       "        <tr>\n",
       "            <td>05              </td> <td>1         </td> <td>0.0020                     </td>\n",
       "        </tr>\n",
       "        <tr>\n",
       "            <td>05775748        </td> <td>1         </td> <td>0.0020                     </td>\n",
       "        </tr>\n",
       "        <tr>\n",
       "            <td>057sxua1524uhkc5</td> <td>1         </td> <td>0.0020                     </td>\n",
       "        </tr>\n",
       "        <tr>\n",
       "            <td>08              </td> <td>1         </td> <td>0.0020                     </td>\n",
       "        </tr>\n",
       "        <tr>\n",
       "            <td>0989sqj         </td> <td>1         </td> <td>0.0020                     </td>\n",
       "        </tr>\n",
       "    </tbody>\n",
       "</table>\n",
       "<p>... (1125 rows omitted)</p>"
      ],
      "text/plain": [
       "Words            | Spam Count | Spam Subject Line Frequency\n",
       "0                | 1          | 0.0020\n",
       "00               | 1          | 0.0020\n",
       "000              | 9          | 0.0180\n",
       "000's            | 1          | 0.0020\n",
       "02               | 1          | 0.0020\n",
       "05               | 1          | 0.0020\n",
       "05775748         | 1          | 0.0020\n",
       "057sxua1524uhkc5 | 1          | 0.0020\n",
       "08               | 1          | 0.0020\n",
       "0989sqj          | 1          | 0.0020\n",
       "... (1125 rows omitted)"
      ]
     },
     "execution_count": 16,
     "metadata": {},
     "output_type": "execute_result"
    }
   ],
   "source": [
    "# Execute this cell of code\n",
    "spam_word_counts = spam_word_counts.with_column('Spam Subject Line Frequency',spam_word_counts.column('Spam Count')/500).\\\n",
    "set_format(\"Spam Subject Line Frequency\", ds.NumberFormatter(decimals=4))\n",
    "spam_word_counts"
   ]
  },
  {
   "cell_type": "markdown",
   "metadata": {},
   "source": [
    "To summarize, 9.2% of the subject lines in the spam emails contain the word `ilug`. As a reminder, the vocabulary of words in the spam subject line consists of 2408 words where 1135 are unique words."
   ]
  },
  {
   "cell_type": "code",
   "execution_count": 17,
   "metadata": {},
   "outputs": [
    {
     "data": {
      "text/plain": [
       "1135"
      ]
     },
     "execution_count": 17,
     "metadata": {},
     "output_type": "execute_result"
    }
   ],
   "source": [
    "spam_word_counts.num_rows"
   ]
  },
  {
   "cell_type": "markdown",
   "metadata": {},
   "source": [
    "Find the total of the spam word count column in `spam_word_counts`. "
   ]
  },
  {
   "cell_type": "code",
   "execution_count": 18,
   "metadata": {},
   "outputs": [
    {
     "data": {
      "text/plain": [
       "2408"
      ]
     },
     "execution_count": 18,
     "metadata": {},
     "output_type": "execute_result"
    }
   ],
   "source": [
    "sum_spam_word_counts = sum(spam_word_counts.column('Spam Count'))\n",
    "sum_spam_word_counts"
   ]
  },
  {
   "cell_type": "markdown",
   "metadata": {},
   "source": [
    "Some of the words only occur once. Let's look at some of them."
   ]
  },
  {
   "cell_type": "code",
   "execution_count": 19,
   "metadata": {},
   "outputs": [
    {
     "data": {
      "text/html": [
       "<table border=\"1\" class=\"dataframe\">\n",
       "    <thead>\n",
       "        <tr>\n",
       "            <th>Words</th> <th>Spam Count</th> <th>Frequency</th>\n",
       "        </tr>\n",
       "    </thead>\n",
       "    <tbody>\n",
       "        <tr>\n",
       "            <td>0               </td> <td>1         </td> <td>0.0020   </td>\n",
       "        </tr>\n",
       "        <tr>\n",
       "            <td>00              </td> <td>1         </td> <td>0.0020   </td>\n",
       "        </tr>\n",
       "        <tr>\n",
       "            <td>000's           </td> <td>1         </td> <td>0.0020   </td>\n",
       "        </tr>\n",
       "        <tr>\n",
       "            <td>02              </td> <td>1         </td> <td>0.0020   </td>\n",
       "        </tr>\n",
       "        <tr>\n",
       "            <td>05              </td> <td>1         </td> <td>0.0020   </td>\n",
       "        </tr>\n",
       "        <tr>\n",
       "            <td>05775748        </td> <td>1         </td> <td>0.0020   </td>\n",
       "        </tr>\n",
       "        <tr>\n",
       "            <td>057sxua1524uhkc5</td> <td>1         </td> <td>0.0020   </td>\n",
       "        </tr>\n",
       "        <tr>\n",
       "            <td>08              </td> <td>1         </td> <td>0.0020   </td>\n",
       "        </tr>\n",
       "        <tr>\n",
       "            <td>0989sqj         </td> <td>1         </td> <td>0.0020   </td>\n",
       "        </tr>\n",
       "        <tr>\n",
       "            <td>0rvn            </td> <td>1         </td> <td>0.0020   </td>\n",
       "        </tr>\n",
       "    </tbody>\n",
       "</table>\n",
       "<p>... (720 rows omitted)</p>"
      ],
      "text/plain": [
       "Words            | Spam Count | Frequency\n",
       "0                | 1          | 0.0020\n",
       "00               | 1          | 0.0020\n",
       "000's            | 1          | 0.0020\n",
       "02               | 1          | 0.0020\n",
       "05               | 1          | 0.0020\n",
       "05775748         | 1          | 0.0020\n",
       "057sxua1524uhkc5 | 1          | 0.0020\n",
       "08               | 1          | 0.0020\n",
       "0989sqj          | 1          | 0.0020\n",
       "0rvn             | 1          | 0.0020\n",
       "... (720 rows omitted)"
      ]
     },
     "execution_count": 19,
     "metadata": {},
     "output_type": "execute_result"
    }
   ],
   "source": [
    "# Create a table of words where the word only occurs once. There should be three columns, word, spam count and frequency.\n",
    "spam_word_one = spam_word_counts.where('Spam Count', ds.are.equal_to(1)).relabeled(2,'Frequency')\n",
    "spam_word_one"
   ]
  },
  {
   "cell_type": "markdown",
   "metadata": {},
   "source": [
    "To visualize the results so far, we will use a bar chart. Create a bar chart showing the frequency of the 15 most frequent words that appear in spam subject lines."
   ]
  },
  {
   "cell_type": "code",
   "execution_count": 20,
   "metadata": {},
   "outputs": [
    {
     "data": {
      "image/png": "[encoded data removed]",
      "text/plain": [
       "<Figure size 432x540 with 1 Axes>"
      ]
     },
     "metadata": {},
     "output_type": "display_data"
    }
   ],
   "source": [
    "# Create a horizontal bar chart\n",
    "most_freq = spam_word_counts.sort(\"Spam Count\", descending=True).take(np.arange(15))\n",
    "most_freq.barh(0,1)"
   ]
  },
  {
   "cell_type": "markdown",
   "metadata": {},
   "source": [
    "### Ham e-mails"
   ]
  },
  {
   "cell_type": "markdown",
   "metadata": {},
   "source": [
    "Repeat this work for the ham e-mails. First, tokenize the ham subject lines."
   ]
  },
  {
   "cell_type": "code",
   "execution_count": 21,
   "metadata": {},
   "outputs": [
    {
     "data": {
      "text/html": [
       "<table border=\"1\" class=\"dataframe\">\n",
       "    <thead>\n",
       "        <tr>\n",
       "            <th>Subject Line</th> <th>Spam</th>\n",
       "        </tr>\n",
       "    </thead>\n",
       "    <tbody>\n",
       "        <tr>\n",
       "            <td>{'window', 'sequences', 'new'}                          </td> <td>False</td>\n",
       "        </tr>\n",
       "        <tr>\n",
       "            <td>{'alexander', 'zzzzteana'}                              </td> <td>False</td>\n",
       "        </tr>\n",
       "        <tr>\n",
       "            <td>{'moscow', 'bomber', 'zzzzteana'}                       </td> <td>False</td>\n",
       "        </tr>\n",
       "        <tr>\n",
       "            <td>{'klez', 'virus', 'irr', 'die'}                         </td> <td>False</td>\n",
       "        </tr>\n",
       "        <tr>\n",
       "            <td>{'insert', 'signature'}                                 </td> <td>False</td>\n",
       "        </tr>\n",
       "        <tr>\n",
       "            <td>{'make', 'used', 'mama', 'like', 'nothing', 'zzzzteana'}</td> <td>False</td>\n",
       "        </tr>\n",
       "        <tr>\n",
       "            <td>{'make', 'used', 'mama', 'like', 'nothing', 'zzzzteana'}</td> <td>False</td>\n",
       "        </tr>\n",
       "        <tr>\n",
       "            <td>{'wants', 'zzzzteana', 'playboy', 'go', 'bang'}         </td> <td>False</td>\n",
       "        </tr>\n",
       "        <tr>\n",
       "            <td>{'make', 'used', 'mama', 'like', 'nothing', 'zzzzteana'}</td> <td>False</td>\n",
       "        </tr>\n",
       "        <tr>\n",
       "            <td>{'sentences', 'meaningful', 'zzzzteana'}                </td> <td>False</td>\n",
       "        </tr>\n",
       "    </tbody>\n",
       "</table>\n",
       "<p>... (2790 rows omitted)</p>"
      ],
      "text/plain": [
       "Subject Line                                             | Spam\n",
       "{'window', 'sequences', 'new'}                           | False\n",
       "{'alexander', 'zzzzteana'}                               | False\n",
       "{'moscow', 'bomber', 'zzzzteana'}                        | False\n",
       "{'klez', 'virus', 'irr', 'die'}                          | False\n",
       "{'insert', 'signature'}                                  | False\n",
       "{'make', 'used', 'mama', 'like', 'nothing', 'zzzzteana'} | False\n",
       "{'make', 'used', 'mama', 'like', 'nothing', 'zzzzteana'} | False\n",
       "{'wants', 'zzzzteana', 'playboy', 'go', 'bang'}          | False\n",
       "{'make', 'used', 'mama', 'like', 'nothing', 'zzzzteana'} | False\n",
       "{'sentences', 'meaningful', 'zzzzteana'}                 | False\n",
       "... (2790 rows omitted)"
      ]
     },
     "execution_count": 21,
     "metadata": {},
     "output_type": "execute_result"
    }
   ],
   "source": [
    "Ham_data_table_hamonly = Spam_data_table.where('Spam',False)\n",
    "Ham_data_table_token = Ham_data_table_hamonly.with_columns(\"Subject\", Ham_data_table_hamonly.apply(token, \"Subject Line\")).\\\n",
    "drop(0).select(\"Subject\", \"Spam\").relabel(\"Subject\",\"Subject Line\")\n",
    "Ham_data_table_token"
   ]
  },
  {
   "cell_type": "markdown",
   "metadata": {},
   "source": [
    "Find the word counts for words that appeared in ham subject lines."
   ]
  },
  {
   "cell_type": "code",
   "execution_count": 22,
   "metadata": {},
   "outputs": [
    {
     "data": {
      "text/html": [
       "<table border=\"1\" class=\"dataframe\">\n",
       "    <thead>\n",
       "        <tr>\n",
       "            <th>Words</th> <th>Ham Count</th>\n",
       "        </tr>\n",
       "    </thead>\n",
       "    <tbody>\n",
       "        <tr>\n",
       "            <td>'apt      </td> <td>3        </td>\n",
       "        </tr>\n",
       "        <tr>\n",
       "            <td>'betrayal'</td> <td>1        </td>\n",
       "        </tr>\n",
       "        <tr>\n",
       "            <td>'boost    </td> <td>1        </td>\n",
       "        </tr>\n",
       "        <tr>\n",
       "            <td>'boosts   </td> <td>1        </td>\n",
       "        </tr>\n",
       "        <tr>\n",
       "            <td>'bust'    </td> <td>1        </td>\n",
       "        </tr>\n",
       "    </tbody>\n",
       "</table>\n",
       "<p>... (3722 rows omitted)</p>"
      ],
      "text/plain": [
       "<IPython.core.display.HTML object>"
      ]
     },
     "metadata": {},
     "output_type": "display_data"
    }
   ],
   "source": [
    "# Get counts and frequency\n",
    "# Flatten first\n",
    "ham_words = [item for sublist in Ham_data_table_token.column(0) for item in sublist]\n",
    "# Put into a table\n",
    "ham_table = ds.Table().with_column('Words', ham_words)\n",
    "ham_word_counts = ham_table.group(0).relabeled(1, 'Ham Count')\n",
    "ham_word_counts.show(5)"
   ]
  },
  {
   "cell_type": "code",
   "execution_count": 23,
   "metadata": {},
   "outputs": [
    {
     "name": "stdout",
     "output_type": "stream",
     "text": [
      "There are 3727 unique words in the tokenized ham subject lines.\n"
     ]
    }
   ],
   "source": [
    "print(\"There are\",ham_word_counts.num_rows,\"unique words in the tokenized ham subject lines.\")"
   ]
  },
  {
   "cell_type": "code",
   "execution_count": 24,
   "metadata": {},
   "outputs": [
    {
     "name": "stdout",
     "output_type": "stream",
     "text": [
      "There are 12163 tokenized words in the ham subject lines.\n"
     ]
    }
   ],
   "source": [
    "sum_ham_word_counts = sum(ham_word_counts.column(1))\n",
    "print(\"There are\",sum_ham_word_counts,\"tokenized words in the ham subject lines.\")"
   ]
  },
  {
   "cell_type": "code",
   "execution_count": 25,
   "metadata": {},
   "outputs": [
    {
     "data": {
      "text/html": [
       "<table border=\"1\" class=\"dataframe\">\n",
       "    <thead>\n",
       "        <tr>\n",
       "            <th>Words</th> <th>Ham Count</th> <th>Ham Subject Line Frequency</th>\n",
       "        </tr>\n",
       "    </thead>\n",
       "    <tbody>\n",
       "        <tr>\n",
       "            <td>'apt      </td> <td>3        </td> <td>0.0011                    </td>\n",
       "        </tr>\n",
       "        <tr>\n",
       "            <td>'betrayal'</td> <td>1        </td> <td>0.0004                    </td>\n",
       "        </tr>\n",
       "        <tr>\n",
       "            <td>'boost    </td> <td>1        </td> <td>0.0004                    </td>\n",
       "        </tr>\n",
       "        <tr>\n",
       "            <td>'boosts   </td> <td>1        </td> <td>0.0004                    </td>\n",
       "        </tr>\n",
       "        <tr>\n",
       "            <td>'bust'    </td> <td>1        </td> <td>0.0004                    </td>\n",
       "        </tr>\n",
       "        <tr>\n",
       "            <td>'cancer   </td> <td>1        </td> <td>0.0004                    </td>\n",
       "        </tr>\n",
       "        <tr>\n",
       "            <td>'could    </td> <td>1        </td> <td>0.0004                    </td>\n",
       "        </tr>\n",
       "        <tr>\n",
       "            <td>'em       </td> <td>1        </td> <td>0.0004                    </td>\n",
       "        </tr>\n",
       "        <tr>\n",
       "            <td>'face     </td> <td>1        </td> <td>0.0004                    </td>\n",
       "        </tr>\n",
       "        <tr>\n",
       "            <td>'flexible'</td> <td>1        </td> <td>0.0004                    </td>\n",
       "        </tr>\n",
       "    </tbody>\n",
       "</table>\n",
       "<p>... (3717 rows omitted)</p>"
      ],
      "text/plain": [
       "Words      | Ham Count | Ham Subject Line Frequency\n",
       "'apt       | 3         | 0.0011\n",
       "'betrayal' | 1         | 0.0004\n",
       "'boost     | 1         | 0.0004\n",
       "'boosts    | 1         | 0.0004\n",
       "'bust'     | 1         | 0.0004\n",
       "'cancer    | 1         | 0.0004\n",
       "'could     | 1         | 0.0004\n",
       "'em        | 1         | 0.0004\n",
       "'face      | 1         | 0.0004\n",
       "'flexible' | 1         | 0.0004\n",
       "... (3717 rows omitted)"
      ]
     },
     "execution_count": 25,
     "metadata": {},
     "output_type": "execute_result"
    }
   ],
   "source": [
    "ham_word_counts = ham_word_counts.with_column('Ham Subject Line Frequency',ham_word_counts.column('Ham Count')/2800).\\\n",
    "set_format(\"Ham Subject Line Frequency\", ds.NumberFormatter(decimals=4))\n",
    "ham_word_counts"
   ]
  },
  {
   "cell_type": "markdown",
   "metadata": {},
   "source": [
    "Make a barplot showing the frequency of the 15 most frequent words that appear in ham subject lines. "
   ]
  },
  {
   "cell_type": "code",
   "execution_count": 26,
   "metadata": {},
   "outputs": [
    {
     "data": {
      "image/png": "[encoded data removed]",
      "text/plain": [
       "<Figure size 432x540 with 1 Axes>"
      ]
     },
     "metadata": {},
     "output_type": "display_data"
    }
   ],
   "source": [
    "most_freq_ham = ham_word_counts.sort(\"Ham Count\", descending=True).take(np.arange(15))\n",
    "most_freq_ham.barh(0,1)"
   ]
  },
  {
   "cell_type": "markdown",
   "metadata": {},
   "source": [
    "There are 12163 words in the ham email subject lines of which 3727 are unique. Which words appear only once?"
   ]
  },
  {
   "cell_type": "code",
   "execution_count": 27,
   "metadata": {},
   "outputs": [
    {
     "data": {
      "text/html": [
       "<table border=\"1\" class=\"dataframe\">\n",
       "    <thead>\n",
       "        <tr>\n",
       "            <th>Words</th> <th>Ham Count</th> <th>Ham Subject Line Frequency</th>\n",
       "        </tr>\n",
       "    </thead>\n",
       "    <tbody>\n",
       "        <tr>\n",
       "            <td>'betrayal'</td> <td>1        </td> <td>0.0004                    </td>\n",
       "        </tr>\n",
       "        <tr>\n",
       "            <td>'boost    </td> <td>1        </td> <td>0.0004                    </td>\n",
       "        </tr>\n",
       "        <tr>\n",
       "            <td>'boosts   </td> <td>1        </td> <td>0.0004                    </td>\n",
       "        </tr>\n",
       "        <tr>\n",
       "            <td>'bust'    </td> <td>1        </td> <td>0.0004                    </td>\n",
       "        </tr>\n",
       "        <tr>\n",
       "            <td>'cancer   </td> <td>1        </td> <td>0.0004                    </td>\n",
       "        </tr>\n",
       "        <tr>\n",
       "            <td>'could    </td> <td>1        </td> <td>0.0004                    </td>\n",
       "        </tr>\n",
       "        <tr>\n",
       "            <td>'em       </td> <td>1        </td> <td>0.0004                    </td>\n",
       "        </tr>\n",
       "        <tr>\n",
       "            <td>'face     </td> <td>1        </td> <td>0.0004                    </td>\n",
       "        </tr>\n",
       "        <tr>\n",
       "            <td>'flexible'</td> <td>1        </td> <td>0.0004                    </td>\n",
       "        </tr>\n",
       "        <tr>\n",
       "            <td>'flipping'</td> <td>1        </td> <td>0.0004                    </td>\n",
       "        </tr>\n",
       "    </tbody>\n",
       "</table>\n",
       "<p>... (2152 rows omitted)</p>"
      ],
      "text/plain": [
       "Words      | Ham Count | Ham Subject Line Frequency\n",
       "'betrayal' | 1         | 0.0004\n",
       "'boost     | 1         | 0.0004\n",
       "'boosts    | 1         | 0.0004\n",
       "'bust'     | 1         | 0.0004\n",
       "'cancer    | 1         | 0.0004\n",
       "'could     | 1         | 0.0004\n",
       "'em        | 1         | 0.0004\n",
       "'face      | 1         | 0.0004\n",
       "'flexible' | 1         | 0.0004\n",
       "'flipping' | 1         | 0.0004\n",
       "... (2152 rows omitted)"
      ]
     },
     "execution_count": 27,
     "metadata": {},
     "output_type": "execute_result"
    }
   ],
   "source": [
    "ham_word_one = ham_word_counts.where(1, ds.are.equal_to(1))\n",
    "ham_word_one"
   ]
  },
  {
   "cell_type": "markdown",
   "metadata": {},
   "source": [
    "As a reminder, in the spam subject line there are 1135 unique words while there are 3727 in the ham. When we merge these data sets there will only be partial overlap."
   ]
  },
  {
   "cell_type": "code",
   "execution_count": 28,
   "metadata": {},
   "outputs": [
    {
     "data": {
      "text/plain": [
       "1135"
      ]
     },
     "execution_count": 28,
     "metadata": {},
     "output_type": "execute_result"
    }
   ],
   "source": [
    "spam_word_counts.num_rows #Number of unique words in spam subject lines"
   ]
  },
  {
   "cell_type": "code",
   "execution_count": 29,
   "metadata": {},
   "outputs": [
    {
     "data": {
      "text/plain": [
       "3727"
      ]
     },
     "execution_count": 29,
     "metadata": {},
     "output_type": "execute_result"
    }
   ],
   "source": [
    "ham_word_counts.num_rows #Number of unique words in ham subject lines"
   ]
  },
  {
   "cell_type": "markdown",
   "metadata": {},
   "source": [
    "There are many more words in the ham subject lines than in the spam subject lines. We need to get one table with the words and counts. This will increase the number of rows for the spam. The built-in join function from the `datascience` package only performs an inner joining. We need to perform an outer join. We cannot determine how to do this with the join function from `datascience` so let's convert the table to pandas dataframes and then perform an outer join, see https://www.shanelynn.ie/merge-join-dataframes-python-pandas-index-1/. By default, pandas repalces missing values with NaN, not a number. We must replace those missing values with 0. Finally, we can convert back to a datascience table."
   ]
  },
  {
   "cell_type": "code",
   "execution_count": 30,
   "metadata": {
    "scrolled": true
   },
   "outputs": [
    {
     "data": {
      "text/html": [
       "<table border=\"1\" class=\"dataframe\">\n",
       "    <thead>\n",
       "        <tr>\n",
       "            <th>Words</th> <th>Ham Count</th> <th>Ham Subject Line Frequency</th> <th>Spam Count</th> <th>Spam Subject Line Frequency</th>\n",
       "        </tr>\n",
       "    </thead>\n",
       "    <tbody>\n",
       "        <tr>\n",
       "            <td>'apt      </td> <td>3        </td> <td>0.00107143                </td> <td>0         </td> <td>0                          </td>\n",
       "        </tr>\n",
       "        <tr>\n",
       "            <td>'betrayal'</td> <td>1        </td> <td>0.000357143               </td> <td>0         </td> <td>0                          </td>\n",
       "        </tr>\n",
       "        <tr>\n",
       "            <td>'boost    </td> <td>1        </td> <td>0.000357143               </td> <td>0         </td> <td>0                          </td>\n",
       "        </tr>\n",
       "        <tr>\n",
       "            <td>'boosts   </td> <td>1        </td> <td>0.000357143               </td> <td>0         </td> <td>0                          </td>\n",
       "        </tr>\n",
       "        <tr>\n",
       "            <td>'bust'    </td> <td>1        </td> <td>0.000357143               </td> <td>0         </td> <td>0                          </td>\n",
       "        </tr>\n",
       "        <tr>\n",
       "            <td>'cancer   </td> <td>1        </td> <td>0.000357143               </td> <td>0         </td> <td>0                          </td>\n",
       "        </tr>\n",
       "        <tr>\n",
       "            <td>'could    </td> <td>1        </td> <td>0.000357143               </td> <td>0         </td> <td>0                          </td>\n",
       "        </tr>\n",
       "        <tr>\n",
       "            <td>'em       </td> <td>1        </td> <td>0.000357143               </td> <td>0         </td> <td>0                          </td>\n",
       "        </tr>\n",
       "        <tr>\n",
       "            <td>'face     </td> <td>1        </td> <td>0.000357143               </td> <td>0         </td> <td>0                          </td>\n",
       "        </tr>\n",
       "        <tr>\n",
       "            <td>'flexible'</td> <td>1        </td> <td>0.000357143               </td> <td>0         </td> <td>0                          </td>\n",
       "        </tr>\n",
       "    </tbody>\n",
       "</table>\n",
       "<p>... (4401 rows omitted)</p>"
      ],
      "text/plain": [
       "Words      | Ham Count | Ham Subject Line Frequency | Spam Count | Spam Subject Line Frequency\n",
       "'apt       | 3         | 0.00107143                 | 0          | 0\n",
       "'betrayal' | 1         | 0.000357143                | 0          | 0\n",
       "'boost     | 1         | 0.000357143                | 0          | 0\n",
       "'boosts    | 1         | 0.000357143                | 0          | 0\n",
       "'bust'     | 1         | 0.000357143                | 0          | 0\n",
       "'cancer    | 1         | 0.000357143                | 0          | 0\n",
       "'could     | 1         | 0.000357143                | 0          | 0\n",
       "'em        | 1         | 0.000357143                | 0          | 0\n",
       "'face      | 1         | 0.000357143                | 0          | 0\n",
       "'flexible' | 1         | 0.000357143                | 0          | 0\n",
       "... (4401 rows omitted)"
      ]
     },
     "execution_count": 30,
     "metadata": {},
     "output_type": "execute_result"
    }
   ],
   "source": [
    "# Execute this cell\n",
    "# Convert data.science table to pandas dataframe\n",
    "word_counts = pd.merge(ham_word_counts.to_df(),spam_word_counts.to_df(),how=\"outer\").fillna(0)\n",
    "word_counts = ds.Table.from_df(word_counts)\n",
    "word_counts"
   ]
  },
  {
   "cell_type": "markdown",
   "metadata": {},
   "source": [
    "Let's visualize the results by looking at the most common words in the ham subject lines."
   ]
  },
  {
   "cell_type": "code",
   "execution_count": 31,
   "metadata": {},
   "outputs": [
    {
     "data": {
      "image/png": "[encoded data removed]",
      "text/plain": [
       "<Figure size 432x360 with 1 Axes>"
      ]
     },
     "metadata": {},
     "output_type": "display_data"
    }
   ],
   "source": [
    "# Execute this cell\n",
    "word_counts.sort(2, descending=True).take(np.arange(10)).select('Words','Ham Subject Line Frequency','Spam Subject Line Frequency').barh('Words')"
   ]
  },
  {
   "cell_type": "markdown",
   "metadata": {},
   "source": [
    "Now, create the same visualization but with the most common words in the spam emails. "
   ]
  },
  {
   "cell_type": "code",
   "execution_count": 32,
   "metadata": {},
   "outputs": [
    {
     "data": {
      "image/png": "[encoded data removed]",
      "text/plain": [
       "<Figure size 432x360 with 1 Axes>"
      ]
     },
     "metadata": {},
     "output_type": "display_data"
    }
   ],
   "source": [
    "word_counts.sort(4, descending=True).take(np.arange(10)).select('Words','Ham Subject Line Frequency','Spam Subject Line Frequency').barh('Words')"
   ]
  },
  {
   "cell_type": "markdown",
   "metadata": {},
   "source": [
    "What do you notice about words that appear in spam and ham e-mail subject lines? "
   ]
  },
  {
   "cell_type": "markdown",
   "metadata": {},
   "source": [
    "The most common words in spam emails appear significantly more in email subject lines than ham emails. The most common spam words sound like advertisements like something that is \"free\" or \"rates\" on something. \"ilug\" is a very common word in spam and ham emails so it is hard to differentiate if an email containing that word would be spam or ham. "
   ]
  },
  {
   "cell_type": "markdown",
   "metadata": {},
   "source": [
    "#### References\n"
   ]
  },
  {
   "cell_type": "markdown",
   "metadata": {},
   "source": [
    "https://www.analyticsvidhya.com/blog/2017/09/naive-bayes-explained/\n",
    "http://localhost:8888/notebooks/Documents/Classes/Books/Stats/Python%20Data%20Science%20Handbook/PythonDataScienceHandbook-master/notebooks/05.05-Naive-Bayes.ipynb"
   ]
  }
 ],
 "metadata": {
  "kernelspec": {
   "display_name": "Python 3",
   "language": "python",
   "name": "python3"
  },
  "language_info": {
   "codemirror_mode": {
    "name": "ipython",
    "version": 3
   },
   "file_extension": ".py",
   "mimetype": "text/x-python",
   "name": "python",
   "nbconvert_exporter": "python",
   "pygments_lexer": "ipython3",
   "version": "3.6.5"
  }
 },
 "nbformat": 4,
 "nbformat_minor": 2
}
